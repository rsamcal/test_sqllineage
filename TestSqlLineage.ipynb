{
  "nbformat": 4,
  "nbformat_minor": 0,
  "metadata": {
    "colab": {
      "provenance": [],
      "mount_file_id": "177Mlxy5YGiiRoglp2Cfmdu6d7NwhH7SQ",
      "authorship_tag": "ABX9TyMR/ErVU1ki9d4pIaq+3pib",
      "include_colab_link": true
    },
    "kernelspec": {
      "name": "python3",
      "display_name": "Python 3"
    },
    "language_info": {
      "name": "python"
    }
  },
  "cells": [
    {
      "cell_type": "markdown",
      "metadata": {
        "id": "view-in-github",
        "colab_type": "text"
      },
      "source": [
        "<a href=\"https://colab.research.google.com/github/rsamcal/test_sqllineage/blob/main/TestSqlLineage.ipynb\" target=\"_parent\"><img src=\"https://colab.research.google.com/assets/colab-badge.svg\" alt=\"Open In Colab\"/></a>"
      ]
    },
    {
      "cell_type": "code",
      "source": [
        "pip install sqllineage"
      ],
      "metadata": {
        "colab": {
          "base_uri": "https://localhost:8080/"
        },
        "id": "NTHdSepGvDJz",
        "outputId": "cc8dac8c-adf9-46c8-ad4e-9046b4def65a"
      },
      "execution_count": 2,
      "outputs": [
        {
          "output_type": "stream",
          "name": "stdout",
          "text": [
            "Collecting sqllineage\n",
            "  Downloading sqllineage-1.5.5-py3-none-any.whl.metadata (10 kB)\n",
            "Requirement already satisfied: networkx>=2.4 in /usr/local/lib/python3.12/dist-packages (from sqllineage) (3.5)\n",
            "Requirement already satisfied: sqlalchemy>=2.0.0 in /usr/local/lib/python3.12/dist-packages (from sqllineage) (2.0.43)\n",
            "Collecting sqlfluff>=3.2.0 (from sqllineage)\n",
            "  Downloading sqlfluff-3.4.2-py3-none-any.whl.metadata (12 kB)\n",
            "Requirement already satisfied: sqlparse>=0.5.0 in /usr/local/lib/python3.12/dist-packages (from sqllineage) (0.5.3)\n",
            "Requirement already satisfied: greenlet>=1 in /usr/local/lib/python3.12/dist-packages (from sqlalchemy>=2.0.0->sqllineage) (3.2.4)\n",
            "Requirement already satisfied: typing-extensions>=4.6.0 in /usr/local/lib/python3.12/dist-packages (from sqlalchemy>=2.0.0->sqllineage) (4.15.0)\n",
            "Requirement already satisfied: platformdirs in /usr/local/lib/python3.12/dist-packages (from sqlfluff>=3.2.0->sqllineage) (4.4.0)\n",
            "Requirement already satisfied: chardet in /usr/local/lib/python3.12/dist-packages (from sqlfluff>=3.2.0->sqllineage) (5.2.0)\n",
            "Requirement already satisfied: click<=8.3.0 in /usr/local/lib/python3.12/dist-packages (from sqlfluff>=3.2.0->sqllineage) (8.2.1)\n",
            "Collecting colorama>=0.3 (from sqlfluff>=3.2.0->sqllineage)\n",
            "  Downloading colorama-0.4.6-py2.py3-none-any.whl.metadata (17 kB)\n",
            "Collecting diff-cover>=2.5.0 (from sqlfluff>=3.2.0->sqllineage)\n",
            "  Downloading diff_cover-9.7.1-py3-none-any.whl.metadata (18 kB)\n",
            "Requirement already satisfied: Jinja2 in /usr/local/lib/python3.12/dist-packages (from sqlfluff>=3.2.0->sqllineage) (3.1.6)\n",
            "Collecting pathspec (from sqlfluff>=3.2.0->sqllineage)\n",
            "  Downloading pathspec-0.12.1-py3-none-any.whl.metadata (21 kB)\n",
            "Requirement already satisfied: pytest in /usr/local/lib/python3.12/dist-packages (from sqlfluff>=3.2.0->sqllineage) (8.4.2)\n",
            "Requirement already satisfied: pyyaml>=5.1 in /usr/local/lib/python3.12/dist-packages (from sqlfluff>=3.2.0->sqllineage) (6.0.2)\n",
            "Requirement already satisfied: regex in /usr/local/lib/python3.12/dist-packages (from sqlfluff>=3.2.0->sqllineage) (2024.11.6)\n",
            "Requirement already satisfied: tblib in /usr/local/lib/python3.12/dist-packages (from sqlfluff>=3.2.0->sqllineage) (3.1.0)\n",
            "Requirement already satisfied: tqdm in /usr/local/lib/python3.12/dist-packages (from sqlfluff>=3.2.0->sqllineage) (4.67.1)\n",
            "Requirement already satisfied: Pygments<3.0.0,>=2.19.1 in /usr/local/lib/python3.12/dist-packages (from diff-cover>=2.5.0->sqlfluff>=3.2.0->sqllineage) (2.19.2)\n",
            "Requirement already satisfied: pluggy<2,>=0.13.1 in /usr/local/lib/python3.12/dist-packages (from diff-cover>=2.5.0->sqlfluff>=3.2.0->sqllineage) (1.6.0)\n",
            "Requirement already satisfied: MarkupSafe>=2.0 in /usr/local/lib/python3.12/dist-packages (from Jinja2->sqlfluff>=3.2.0->sqllineage) (3.0.2)\n",
            "Requirement already satisfied: iniconfig>=1 in /usr/local/lib/python3.12/dist-packages (from pytest->sqlfluff>=3.2.0->sqllineage) (2.1.0)\n",
            "Requirement already satisfied: packaging>=20 in /usr/local/lib/python3.12/dist-packages (from pytest->sqlfluff>=3.2.0->sqllineage) (25.0)\n",
            "Downloading sqllineage-1.5.5-py3-none-any.whl (486 kB)\n",
            "\u001b[2K   \u001b[90m━━━━━━━━━━━━━━━━━━━━━━━━━━━━━━━━━━━━━━━━\u001b[0m \u001b[32m486.7/486.7 kB\u001b[0m \u001b[31m9.6 MB/s\u001b[0m eta \u001b[36m0:00:00\u001b[0m\n",
            "\u001b[?25hDownloading sqlfluff-3.4.2-py3-none-any.whl (906 kB)\n",
            "\u001b[2K   \u001b[90m━━━━━━━━━━━━━━━━━━━━━━━━━━━━━━━━━━━━━━━━\u001b[0m \u001b[32m906.4/906.4 kB\u001b[0m \u001b[31m32.1 MB/s\u001b[0m eta \u001b[36m0:00:00\u001b[0m\n",
            "\u001b[?25hDownloading colorama-0.4.6-py2.py3-none-any.whl (25 kB)\n",
            "Downloading diff_cover-9.7.1-py3-none-any.whl (56 kB)\n",
            "\u001b[2K   \u001b[90m━━━━━━━━━━━━━━━━━━━━━━━━━━━━━━━━━━━━━━━━\u001b[0m \u001b[32m56.0/56.0 kB\u001b[0m \u001b[31m4.6 MB/s\u001b[0m eta \u001b[36m0:00:00\u001b[0m\n",
            "\u001b[?25hDownloading pathspec-0.12.1-py3-none-any.whl (31 kB)\n",
            "Installing collected packages: pathspec, colorama, diff-cover, sqlfluff, sqllineage\n",
            "Successfully installed colorama-0.4.6 diff-cover-9.7.1 pathspec-0.12.1 sqlfluff-3.4.2 sqllineage-1.5.5\n"
          ]
        }
      ]
    },
    {
      "cell_type": "code",
      "execution_count": 3,
      "metadata": {
        "colab": {
          "base_uri": "https://localhost:8080/"
        },
        "id": "I_ksCrOrusd6",
        "outputId": "eca42f3a-77ff-4986-b28d-ba45910f1ac6"
      },
      "outputs": [
        {
          "output_type": "stream",
          "name": "stdout",
          "text": [
            "main.foo.col1 <- main.bar.col1\n",
            "main.foo.col2 <- main.bar.col2\n"
          ]
        }
      ],
      "source": [
        "from sqllineage.core.metadata.dummy import DummyMetaDataProvider\n",
        "from sqllineage.runner import LineageRunner\n",
        "\n",
        "sql1 = \"insert into main.foo select * from main.bar\"\n",
        "\n",
        "metadata = {\"main.bar\": [\"col1\", \"col2\"]}\n",
        "provider = DummyMetaDataProvider(metadata)\n",
        "LineageRunner(sql1, metadata_provider=provider).print_column_lineage()"
      ]
    },
    {
      "cell_type": "code",
      "source": [
        "sql = \"SELECT 'FIN: ' || TO_CHAR(SYSDATE,'DD/MM/YYYY HH:MI:SS') FROM DUAL;\"\n",
        "result = LineageRunner(sql, dialect=\"ansi\")\n",
        "\n",
        "print(result)"
      ],
      "metadata": {
        "colab": {
          "base_uri": "https://localhost:8080/"
        },
        "id": "gcLpE4rmvVw2",
        "outputId": "1d85a616-b129-409e-8c54-06732cece76b"
      },
      "execution_count": 4,
      "outputs": [
        {
          "output_type": "stream",
          "name": "stdout",
          "text": [
            "Statements(#): 1\n",
            "Source Tables:\n",
            "    <default>.dual\n",
            "Target Tables:\n",
            "    \n",
            "\n"
          ]
        }
      ]
    },
    {
      "cell_type": "code",
      "source": [
        "!sqllineage -f /content/scripts/MD_DESTIPODISENIOTARJETADEBITO.sql"
      ],
      "metadata": {
        "colab": {
          "base_uri": "https://localhost:8080/"
        },
        "id": "CPE0PGc6wfo3",
        "outputId": "a4c606b2-1269-41a2-9694-61fc86391c84"
      },
      "execution_count": 5,
      "outputs": [
        {
          "output_type": "stream",
          "name": "stdout",
          "text": [
            "Traceback (most recent call last):\n",
            "  File \"/usr/local/bin/sqllineage\", line 8, in <module>\n",
            "    sys.exit(main())\n",
            "             ^^^^^^\n",
            "  File \"/usr/local/lib/python3.12/dist-packages/sqllineage/cli.py\", line 134, in main\n",
            "    runner.print_table_lineage()\n",
            "  File \"/usr/local/lib/python3.12/dist-packages/sqllineage/runner.py\", line 183, in print_table_lineage\n",
            "    print(str(self))\n",
            "          ^^^^^^^^^\n",
            "  File \"/usr/local/lib/python3.12/dist-packages/sqllineage/runner.py\", line 26, in wrapper\n",
            "    self._eval()\n",
            "  File \"/usr/local/lib/python3.12/dist-packages/sqllineage/runner.py\", line 205, in _eval\n",
            "    stmt_holder = analyzer.analyze(stmt, session.metadata_provider)\n",
            "                  ^^^^^^^^^^^^^^^^^^^^^^^^^^^^^^^^^^^^^^^^^^^^^^^^^\n",
            "  File \"/usr/local/lib/python3.12/dist-packages/sqllineage/core/parser/sqlfluff/analyzer.py\", line 53, in analyze\n",
            "    statement_segments = self._list_specific_statement_segment(sql)\n",
            "                         ^^^^^^^^^^^^^^^^^^^^^^^^^^^^^^^^^^^^^^^^^^\n",
            "  File \"/usr/local/lib/python3.12/dist-packages/sqllineage/core/parser/sqlfluff/analyzer.py\", line 89, in _list_specific_statement_segment\n",
            "    raise InvalidSyntaxException(\n",
            "sqllineage.exceptions.InvalidSyntaxException: This SQL statement is unparsable, please check potential syntax error for SQL:\n",
            "WHENEVER SQLERROR EXIT 1;\n",
            "Line 1, Position 1: Found unparsable section: 'WHENEVER SQLERROR EXIT 1;'\n"
          ]
        }
      ]
    },
    {
      "cell_type": "code",
      "source": [
        "!sqllineage -f /content/scripts/MD_DESTIPOCREDITOEFECTIVONEG.sql"
      ],
      "metadata": {
        "colab": {
          "base_uri": "https://localhost:8080/"
        },
        "id": "he7lrJ9O4PeE",
        "outputId": "7420ccc8-3432-4ff0-8c60-a3d010c88dcc"
      },
      "execution_count": 6,
      "outputs": [
        {
          "output_type": "stream",
          "name": "stdout",
          "text": [
            "Traceback (most recent call last):\n",
            "  File \"/usr/local/bin/sqllineage\", line 8, in <module>\n",
            "    sys.exit(main())\n",
            "             ^^^^^^\n",
            "  File \"/usr/local/lib/python3.12/dist-packages/sqllineage/cli.py\", line 134, in main\n",
            "    runner.print_table_lineage()\n",
            "  File \"/usr/local/lib/python3.12/dist-packages/sqllineage/runner.py\", line 183, in print_table_lineage\n",
            "    print(str(self))\n",
            "          ^^^^^^^^^\n",
            "  File \"/usr/local/lib/python3.12/dist-packages/sqllineage/runner.py\", line 26, in wrapper\n",
            "    self._eval()\n",
            "  File \"/usr/local/lib/python3.12/dist-packages/sqllineage/runner.py\", line 205, in _eval\n",
            "    stmt_holder = analyzer.analyze(stmt, session.metadata_provider)\n",
            "                  ^^^^^^^^^^^^^^^^^^^^^^^^^^^^^^^^^^^^^^^^^^^^^^^^^\n",
            "  File \"/usr/local/lib/python3.12/dist-packages/sqllineage/core/parser/sqlfluff/analyzer.py\", line 53, in analyze\n",
            "    statement_segments = self._list_specific_statement_segment(sql)\n",
            "                         ^^^^^^^^^^^^^^^^^^^^^^^^^^^^^^^^^^^^^^^^^^\n",
            "  File \"/usr/local/lib/python3.12/dist-packages/sqllineage/core/parser/sqlfluff/analyzer.py\", line 89, in _list_specific_statement_segment\n",
            "    raise InvalidSyntaxException(\n",
            "sqllineage.exceptions.InvalidSyntaxException: This SQL statement is unparsable, please check potential syntax error for SQL:\n",
            "-- *************************************************************************************************************\n",
            "-- || PROYECTO      : MIC\n",
            "-- || NOMBRE        :  MD_DESTIPOCREDITOEFECTIVONEG.sql\n",
            "-- || TABLA DESTINO\t: ODS.MD_DESTIPOCREDITOEFECTIVONEG\n",
            "-- || TABLAS FUENTES\t: ODSSTG.TD_EFECTIVONEGOCIO_TABLA_MIC\n",
            "-- || OBJETIVO   \t: INCORPORAR CAMPOS ADICIONALES A DATAMART DE RBP\n",
            "-- || TIPO          : SQL\n",
            "-- || REPROCESABLE  : SI\n",
            "-- || SCHEDULER     :  @WCMI102\n",
            "-- || JOB           :  @WC1MIAQ\n",
            "-- ||\n",
            "-- || VERSION   DESARROLLADOR               PROVEEDOR  AT RESPONSABLE         FECHA        DESCRIPCION\n",
            "-- || ---------------------------------------------------------------------------------------------------------------\n",
            "-- || 1           MARCEL VALDERRAMA                                           17/07/2006 \tCREACI�N DE PROCESO DE CARGA DE LA TABLA MD_DESTIPOCREDITOEFECTIVONEG\n",
            "-- || 2         MARI CORONADO               ULTRANET   ARTURO ROJAS           16/10/2007   MIGRACION A UNIX\n",
            "-- *************************************************************************************************************\n",
            "@/cargaorcl/sqlplusods.usr;\n",
            "Unable to lex characters: '@/cargaorc...'\n",
            "Line 17, Position 1: Found unparsable section: '@/cargaorcl/sqlplusods.usr;'\n"
          ]
        }
      ]
    },
    {
      "cell_type": "code",
      "source": [
        "sql = \"\"\"\n",
        "INSERT OVERWRITE tab1\n",
        "SELECT col2\n",
        "FROM tab2\n",
        "JOIN tab3\n",
        "ON tab2.col1 = tab3.col1\n",
        "\"\"\"\n",
        "result = LineageRunner(sql, dialect=\"ansi\")\n",
        "\n",
        "print(result)\n",
        "\n"
      ],
      "metadata": {
        "colab": {
          "base_uri": "https://localhost:8080/",
          "height": 443
        },
        "id": "9y--TnNs8wgd",
        "outputId": "e1f47fc5-c4a3-4145-98a2-117bbd71df0e"
      },
      "execution_count": 8,
      "outputs": [
        {
          "output_type": "error",
          "ename": "InvalidSyntaxException",
          "evalue": "This SQL statement is unparsable, please check potential syntax error for SQL:\nINSERT OVERWRITE tab1\nSELECT col2\nFROM tab2\nJOIN tab3\nON tab2.col1 = tab3.col1\nLine 1, Position 1: Found unparsable section: 'INSERT OVERWRITE tab1\\nSELECT col2\\nFROM t...'",
          "traceback": [
            "\u001b[0;31m---------------------------------------------------------------------------\u001b[0m",
            "\u001b[0;31mInvalidSyntaxException\u001b[0m                    Traceback (most recent call last)",
            "\u001b[0;32m/tmp/ipython-input-326545987.py\u001b[0m in \u001b[0;36m<cell line: 0>\u001b[0;34m()\u001b[0m\n\u001b[1;32m      8\u001b[0m \u001b[0mresult\u001b[0m \u001b[0;34m=\u001b[0m \u001b[0mLineageRunner\u001b[0m\u001b[0;34m(\u001b[0m\u001b[0msql\u001b[0m\u001b[0;34m,\u001b[0m \u001b[0mdialect\u001b[0m\u001b[0;34m=\u001b[0m\u001b[0;34m\"ansi\"\u001b[0m\u001b[0;34m)\u001b[0m\u001b[0;34m\u001b[0m\u001b[0;34m\u001b[0m\u001b[0m\n\u001b[1;32m      9\u001b[0m \u001b[0;34m\u001b[0m\u001b[0m\n\u001b[0;32m---> 10\u001b[0;31m \u001b[0mprint\u001b[0m\u001b[0;34m(\u001b[0m\u001b[0mresult\u001b[0m\u001b[0;34m)\u001b[0m\u001b[0;34m\u001b[0m\u001b[0;34m\u001b[0m\u001b[0m\n\u001b[0m\u001b[1;32m     11\u001b[0m \u001b[0;34m\u001b[0m\u001b[0m\n",
            "\u001b[0;32m/usr/local/lib/python3.12/dist-packages/sqllineage/runner.py\u001b[0m in \u001b[0;36mwrapper\u001b[0;34m(*args, **kwargs)\u001b[0m\n\u001b[1;32m     24\u001b[0m         \u001b[0mself\u001b[0m \u001b[0;34m=\u001b[0m \u001b[0margs\u001b[0m\u001b[0;34m[\u001b[0m\u001b[0;36m0\u001b[0m\u001b[0;34m]\u001b[0m\u001b[0;34m\u001b[0m\u001b[0;34m\u001b[0m\u001b[0m\n\u001b[1;32m     25\u001b[0m         \u001b[0;32mif\u001b[0m \u001b[0;32mnot\u001b[0m \u001b[0mself\u001b[0m\u001b[0;34m.\u001b[0m\u001b[0m_evaluated\u001b[0m\u001b[0;34m:\u001b[0m\u001b[0;34m\u001b[0m\u001b[0;34m\u001b[0m\u001b[0m\n\u001b[0;32m---> 26\u001b[0;31m             \u001b[0mself\u001b[0m\u001b[0;34m.\u001b[0m\u001b[0m_eval\u001b[0m\u001b[0;34m(\u001b[0m\u001b[0;34m)\u001b[0m\u001b[0;34m\u001b[0m\u001b[0;34m\u001b[0m\u001b[0m\n\u001b[0m\u001b[1;32m     27\u001b[0m         \u001b[0;32mreturn\u001b[0m \u001b[0mfunc\u001b[0m\u001b[0;34m(\u001b[0m\u001b[0;34m*\u001b[0m\u001b[0margs\u001b[0m\u001b[0;34m,\u001b[0m \u001b[0;34m**\u001b[0m\u001b[0mkwargs\u001b[0m\u001b[0;34m)\u001b[0m\u001b[0;34m\u001b[0m\u001b[0;34m\u001b[0m\u001b[0m\n\u001b[1;32m     28\u001b[0m \u001b[0;34m\u001b[0m\u001b[0m\n",
            "\u001b[0;32m/usr/local/lib/python3.12/dist-packages/sqllineage/runner.py\u001b[0m in \u001b[0;36m_eval\u001b[0;34m(self)\u001b[0m\n\u001b[1;32m    203\u001b[0m             \u001b[0mstmt_holders\u001b[0m \u001b[0;34m=\u001b[0m \u001b[0;34m[\u001b[0m\u001b[0;34m]\u001b[0m\u001b[0;34m\u001b[0m\u001b[0;34m\u001b[0m\u001b[0m\n\u001b[1;32m    204\u001b[0m             \u001b[0;32mfor\u001b[0m \u001b[0mstmt\u001b[0m \u001b[0;32min\u001b[0m \u001b[0mself\u001b[0m\u001b[0;34m.\u001b[0m\u001b[0m_stmt\u001b[0m\u001b[0;34m:\u001b[0m\u001b[0;34m\u001b[0m\u001b[0;34m\u001b[0m\u001b[0m\n\u001b[0;32m--> 205\u001b[0;31m                 \u001b[0mstmt_holder\u001b[0m \u001b[0;34m=\u001b[0m \u001b[0manalyzer\u001b[0m\u001b[0;34m.\u001b[0m\u001b[0manalyze\u001b[0m\u001b[0;34m(\u001b[0m\u001b[0mstmt\u001b[0m\u001b[0;34m,\u001b[0m \u001b[0msession\u001b[0m\u001b[0;34m.\u001b[0m\u001b[0mmetadata_provider\u001b[0m\u001b[0;34m)\u001b[0m\u001b[0;34m\u001b[0m\u001b[0;34m\u001b[0m\u001b[0m\n\u001b[0m\u001b[1;32m    206\u001b[0m                 \u001b[0;32mif\u001b[0m \u001b[0mwrite\u001b[0m \u001b[0;34m:=\u001b[0m \u001b[0mstmt_holder\u001b[0m\u001b[0;34m.\u001b[0m\u001b[0mwrite\u001b[0m\u001b[0;34m:\u001b[0m\u001b[0;34m\u001b[0m\u001b[0;34m\u001b[0m\u001b[0m\n\u001b[1;32m    207\u001b[0m                     \u001b[0mtgt_table\u001b[0m \u001b[0;34m=\u001b[0m \u001b[0mnext\u001b[0m\u001b[0;34m(\u001b[0m\u001b[0miter\u001b[0m\u001b[0;34m(\u001b[0m\u001b[0mwrite\u001b[0m\u001b[0;34m)\u001b[0m\u001b[0;34m)\u001b[0m\u001b[0;34m\u001b[0m\u001b[0;34m\u001b[0m\u001b[0m\n",
            "\u001b[0;32m/usr/local/lib/python3.12/dist-packages/sqllineage/core/parser/sqlfluff/analyzer.py\u001b[0m in \u001b[0;36manalyze\u001b[0;34m(self, sql, metadata_provider)\u001b[0m\n\u001b[1;32m     51\u001b[0m             \u001b[0mstatement_segments\u001b[0m \u001b[0;34m=\u001b[0m \u001b[0;34m[\u001b[0m\u001b[0mself\u001b[0m\u001b[0;34m.\u001b[0m\u001b[0mtsql_split_cache\u001b[0m\u001b[0;34m[\u001b[0m\u001b[0msql\u001b[0m\u001b[0;34m]\u001b[0m\u001b[0;34m]\u001b[0m\u001b[0;34m\u001b[0m\u001b[0;34m\u001b[0m\u001b[0m\n\u001b[1;32m     52\u001b[0m         \u001b[0;32melse\u001b[0m\u001b[0;34m:\u001b[0m\u001b[0;34m\u001b[0m\u001b[0;34m\u001b[0m\u001b[0m\n\u001b[0;32m---> 53\u001b[0;31m             \u001b[0mstatement_segments\u001b[0m \u001b[0;34m=\u001b[0m \u001b[0mself\u001b[0m\u001b[0;34m.\u001b[0m\u001b[0m_list_specific_statement_segment\u001b[0m\u001b[0;34m(\u001b[0m\u001b[0msql\u001b[0m\u001b[0;34m)\u001b[0m\u001b[0;34m\u001b[0m\u001b[0;34m\u001b[0m\u001b[0m\n\u001b[0m\u001b[1;32m     54\u001b[0m         \u001b[0;32mif\u001b[0m \u001b[0mlen\u001b[0m\u001b[0;34m(\u001b[0m\u001b[0mstatement_segments\u001b[0m\u001b[0;34m)\u001b[0m \u001b[0;34m==\u001b[0m \u001b[0;36m0\u001b[0m\u001b[0;34m:\u001b[0m\u001b[0;34m\u001b[0m\u001b[0;34m\u001b[0m\u001b[0m\n\u001b[1;32m     55\u001b[0m             raise UnsupportedStatementException(\n",
            "\u001b[0;32m/usr/local/lib/python3.12/dist-packages/sqllineage/core/parser/sqlfluff/analyzer.py\u001b[0m in \u001b[0;36m_list_specific_statement_segment\u001b[0;34m(self, sql)\u001b[0m\n\u001b[1;32m     87\u001b[0m         \u001b[0;32mif\u001b[0m \u001b[0mviolations\u001b[0m\u001b[0;34m:\u001b[0m\u001b[0;34m\u001b[0m\u001b[0;34m\u001b[0m\u001b[0m\n\u001b[1;32m     88\u001b[0m             \u001b[0mviolation_msg\u001b[0m \u001b[0;34m=\u001b[0m \u001b[0;34m\"\\n\"\u001b[0m\u001b[0;34m.\u001b[0m\u001b[0mjoin\u001b[0m\u001b[0;34m(\u001b[0m\u001b[0mviolations\u001b[0m\u001b[0;34m)\u001b[0m\u001b[0;34m\u001b[0m\u001b[0;34m\u001b[0m\u001b[0m\n\u001b[0;32m---> 89\u001b[0;31m             raise InvalidSyntaxException(\n\u001b[0m\u001b[1;32m     90\u001b[0m                 \u001b[0;34mf\"This SQL statement is unparsable, please check potential syntax error for SQL:\\n\"\u001b[0m\u001b[0;34m\u001b[0m\u001b[0;34m\u001b[0m\u001b[0m\n\u001b[1;32m     91\u001b[0m                 \u001b[0;34mf\"{sql}\\n\"\u001b[0m\u001b[0;34m\u001b[0m\u001b[0;34m\u001b[0m\u001b[0m\n",
            "\u001b[0;31mInvalidSyntaxException\u001b[0m: This SQL statement is unparsable, please check potential syntax error for SQL:\nINSERT OVERWRITE tab1\nSELECT col2\nFROM tab2\nJOIN tab3\nON tab2.col1 = tab3.col1\nLine 1, Position 1: Found unparsable section: 'INSERT OVERWRITE tab1\\nSELECT col2\\nFROM t...'"
          ]
        }
      ]
    }
  ]
}